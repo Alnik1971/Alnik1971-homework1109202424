{
  "nbformat": 4,
  "nbformat_minor": 0,
  "metadata": {
    "colab": {
      "provenance": [],
      "authorship_tag": "ABX9TyOXf2nHB+XglvyTob+O9fkF",
      "include_colab_link": true
    },
    "kernelspec": {
      "name": "python3",
      "display_name": "Python 3"
    },
    "language_info": {
      "name": "python"
    }
  },
  "cells": [
    {
      "cell_type": "markdown",
      "metadata": {
        "id": "view-in-github",
        "colab_type": "text"
      },
      "source": [
        "<a href=\"https://colab.research.google.com/github/Alnik1971/Alnik1971-homework1109202424/blob/main/%D0%9B%D0%B0%D0%B1%D0%BE%D1%80%D0%B0%D1%82%D0%BE%D1%80%D0%BD%D0%B0%D1%8F_1_%D0%9D%D0%B8%D0%BA%D0%B8%D1%82%D0%B8%D0%BD_%D0%90_%D0%AE_.ipynb\" target=\"_parent\"><img src=\"https://colab.research.google.com/assets/colab-badge.svg\" alt=\"Open In Colab\"/></a>"
      ]
    },
    {
      "cell_type": "code",
      "execution_count": null,
      "metadata": {
        "colab": {
          "base_uri": "https://localhost:8080/"
        },
        "id": "EOlmSQM86sge",
        "outputId": "d857f875-226b-42d6-805e-dd4fce448328"
      },
      "outputs": [
        {
          "output_type": "stream",
          "name": "stdout",
          "text": [
            "Введите любое число\n",
            "9\n",
            "Вы ввели число 9.0\n",
            " - Это число положительное\n"
          ]
        }
      ],
      "source": [
        "x = 0\n",
        "try:\n",
        "    print('Введите любое число')\n",
        "    x = float(input())\n",
        "    print('Вы ввели число', x)\n",
        "except ValueError:\n",
        "    print('Это не число')\n",
        "else:\n",
        "    if x > 0:\n",
        "        print(' - Это число положительное')\n",
        "    elif x < 0:\n",
        "        print(' - Это число отрицательное')\n",
        "    elif x == 0:\n",
        "        print('Это число 0')"
      ]
    },
    {
      "cell_type": "code",
      "source": [
        "y = 0\n",
        "try:\n",
        "    print('Введите целое число от 1 до 9:')\n",
        "    y = int(input())\n",
        "except ValueError:\n",
        "    print('Это не число')\n",
        "except TypeError:\n",
        "    print('Это не целое число')\n",
        "else:\n",
        "    if y > 9:\n",
        "        print('Это число больше 9')\n",
        "    elif y < 1:\n",
        "        print('Это число меньше 1')\n",
        "    else:\n",
        "        i = 0\n",
        "        print('Таблица умножения на число', y,':')\n",
        "        for i in range (1,10):\n",
        "          print(y, '*', i, ' =', y*i)"
      ],
      "metadata": {
        "colab": {
          "base_uri": "https://localhost:8080/"
        },
        "id": "euAemTBG7N2T",
        "outputId": "dbb148a8-90ae-41ef-8f84-71d1b5852194"
      },
      "execution_count": null,
      "outputs": [
        {
          "output_type": "stream",
          "name": "stdout",
          "text": [
            "Введите целое число от 1 до 9:\n",
            "8\n",
            "Таблица умножения на число 8 :\n",
            "8 * 1  = 8\n",
            "8 * 2  = 16\n",
            "8 * 3  = 24\n",
            "8 * 4  = 32\n",
            "8 * 5  = 40\n",
            "8 * 6  = 48\n",
            "8 * 7  = 56\n",
            "8 * 8  = 64\n",
            "8 * 9  = 72\n"
          ]
        }
      ]
    },
    {
      "cell_type": "code",
      "source": [
        "import random\n",
        "\n",
        "z = 0\n",
        "random_number = random.randint(1,100)\n",
        "print(random_number)\n",
        "print('Компьютер загадал число. Угадай его')\n",
        "while (random_number != z):\n",
        "    try:\n",
        "        print('Введите целое число от 1 до 100:')\n",
        "        z = int(input())\n",
        "    except ValueError:\n",
        "        print('Ошибка: Это не число')\n",
        "    except TypeError:\n",
        "        print('Ошибка: Это не целое число')\n",
        "    if z > 100:\n",
        "        print('Ошибка: Это число больше 100')\n",
        "    elif z < 1:\n",
        "        print('Ошибка: Это число меньше 1')\n",
        "    elif z > random_number:\n",
        "        print ('Нет. Меньше!')\n",
        "    elif z < random_number:\n",
        "        print ('Нет. Больше!')\n",
        "    else:\n",
        "        print ('Введите другое число')\n",
        "print ('Молодец! Это число', z)\n"
      ],
      "metadata": {
        "colab": {
          "base_uri": "https://localhost:8080/"
        },
        "id": "p13-NQ-a7ZMS",
        "outputId": "1a45557d-0667-4f38-c9fc-64ed782de328"
      },
      "execution_count": null,
      "outputs": [
        {
          "output_type": "stream",
          "name": "stdout",
          "text": [
            "71\n",
            "Компьютер загадал число. Угадай его\n",
            "Введите целое число от 1 до 100:\n",
            "67\n",
            "Нет. Больше!\n",
            "Введите целое число от 1 до 100:\n",
            "85\n",
            "Нет. Меньше!\n",
            "Введите целое число от 1 до 100:\n",
            "71\n",
            "Введите другое число\n",
            "Молодец! Это число 71\n"
          ]
        }
      ]
    }
  ]
}